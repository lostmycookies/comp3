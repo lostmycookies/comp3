{
 "cells": [
  {
   "cell_type": "code",
   "execution_count": 1,
   "id": "bf7e20c9",
   "metadata": {},
   "outputs": [],
   "source": [
    "import dash\n",
    "from dash import dcc\n",
    "from dash import html\n",
    "from dash.dependencies import Input, Output, State\n",
    "import numpy as np\n",
    "import pandas as pd\n",
    "import plotly.graph_objs as go\n",
    "import plotly.express as px\n"
   ]
  },
  {
   "cell_type": "code",
   "execution_count": 2,
   "id": "5cd2f2e0",
   "metadata": {},
   "outputs": [
    {
     "data": {
      "text/plain": [
       "16"
      ]
     },
     "execution_count": 2,
     "metadata": {},
     "output_type": "execute_result"
    }
   ],
   "source": [
    "# Read in the data:\n",
    "\n",
    "base_df = pd.read_csv(\"nutrients_csvfile.csv\")\n",
    "\n",
    "len(base_df['Category'].unique())"
   ]
  },
  {
   "cell_type": "code",
   "execution_count": 3,
   "id": "dff5fb26",
   "metadata": {
    "scrolled": true
   },
   "outputs": [
    {
     "data": {
      "text/plain": [
       "Index(['Food', 'Measure', 'Grams', 'Calories', 'Protein', 'Fat', 'Sat.Fat',\n",
       "       'Fiber', 'Carbs', 'Category'],\n",
       "      dtype='object')"
      ]
     },
     "execution_count": 3,
     "metadata": {},
     "output_type": "execute_result"
    }
   ],
   "source": [
    "# Quick column check:\n",
    "\n",
    "base_df.columns"
   ]
  },
  {
   "cell_type": "code",
   "execution_count": 4,
   "id": "a275e3c1",
   "metadata": {},
   "outputs": [
    {
     "data": {
      "text/plain": [
       "array(['Dairy products', 'Fats, Oils, Shortenings', 'Meat, Poultry',\n",
       "       'Fish, Seafood', 'Vegetables A-E', 'Vegetables F-P',\n",
       "       'Vegetables R-Z', 'Fruits A-F', 'Fruits G-P', 'Fruits R-Z',\n",
       "       'Breads, cereals, fastfood,grains', 'Soups', 'Desserts, sweets',\n",
       "       'Jams, Jellies', 'Seeds and Nuts', 'Drinks,Alcohol, Beverages'],\n",
       "      dtype=object)"
      ]
     },
     "execution_count": 4,
     "metadata": {},
     "output_type": "execute_result"
    }
   ],
   "source": [
    "base_df['Category'].unique()"
   ]
  },
  {
   "cell_type": "code",
   "execution_count": 5,
   "id": "22cea211",
   "metadata": {},
   "outputs": [
    {
     "data": {
      "text/html": [
       "<div>\n",
       "<style scoped>\n",
       "    .dataframe tbody tr th:only-of-type {\n",
       "        vertical-align: middle;\n",
       "    }\n",
       "\n",
       "    .dataframe tbody tr th {\n",
       "        vertical-align: top;\n",
       "    }\n",
       "\n",
       "    .dataframe thead th {\n",
       "        text-align: right;\n",
       "    }\n",
       "</style>\n",
       "<table border=\"1\" class=\"dataframe\">\n",
       "  <thead>\n",
       "    <tr style=\"text-align: right;\">\n",
       "      <th></th>\n",
       "      <th>Food</th>\n",
       "      <th>Measure</th>\n",
       "      <th>Grams</th>\n",
       "      <th>Calories</th>\n",
       "      <th>Protein</th>\n",
       "      <th>Fat</th>\n",
       "      <th>Sat.Fat</th>\n",
       "      <th>Fiber</th>\n",
       "      <th>Carbs</th>\n",
       "      <th>Category</th>\n",
       "    </tr>\n",
       "  </thead>\n",
       "  <tbody>\n",
       "    <tr>\n",
       "      <th>0</th>\n",
       "      <td>Cows' milk</td>\n",
       "      <td>1 qt.</td>\n",
       "      <td>976</td>\n",
       "      <td>660</td>\n",
       "      <td>32</td>\n",
       "      <td>40</td>\n",
       "      <td>36</td>\n",
       "      <td>0</td>\n",
       "      <td>48</td>\n",
       "      <td>Dairy products</td>\n",
       "    </tr>\n",
       "    <tr>\n",
       "      <th>1</th>\n",
       "      <td>Milk skim</td>\n",
       "      <td>1 qt.</td>\n",
       "      <td>984</td>\n",
       "      <td>360</td>\n",
       "      <td>36</td>\n",
       "      <td>t</td>\n",
       "      <td>t</td>\n",
       "      <td>0</td>\n",
       "      <td>52</td>\n",
       "      <td>Dairy products</td>\n",
       "    </tr>\n",
       "    <tr>\n",
       "      <th>2</th>\n",
       "      <td>Buttermilk</td>\n",
       "      <td>1 cup</td>\n",
       "      <td>246</td>\n",
       "      <td>127</td>\n",
       "      <td>9</td>\n",
       "      <td>5</td>\n",
       "      <td>4</td>\n",
       "      <td>0</td>\n",
       "      <td>13</td>\n",
       "      <td>Dairy products</td>\n",
       "    </tr>\n",
       "    <tr>\n",
       "      <th>3</th>\n",
       "      <td>Evaporated, undiluted</td>\n",
       "      <td>1 cup</td>\n",
       "      <td>252</td>\n",
       "      <td>345</td>\n",
       "      <td>16</td>\n",
       "      <td>20</td>\n",
       "      <td>18</td>\n",
       "      <td>0</td>\n",
       "      <td>24</td>\n",
       "      <td>Dairy products</td>\n",
       "    </tr>\n",
       "    <tr>\n",
       "      <th>4</th>\n",
       "      <td>Fortified milk</td>\n",
       "      <td>6 cups</td>\n",
       "      <td>1,419</td>\n",
       "      <td>1,373</td>\n",
       "      <td>89</td>\n",
       "      <td>42</td>\n",
       "      <td>23</td>\n",
       "      <td>1.4</td>\n",
       "      <td>119</td>\n",
       "      <td>Dairy products</td>\n",
       "    </tr>\n",
       "    <tr>\n",
       "      <th>...</th>\n",
       "      <td>...</td>\n",
       "      <td>...</td>\n",
       "      <td>...</td>\n",
       "      <td>...</td>\n",
       "      <td>...</td>\n",
       "      <td>...</td>\n",
       "      <td>...</td>\n",
       "      <td>...</td>\n",
       "      <td>...</td>\n",
       "      <td>...</td>\n",
       "    </tr>\n",
       "    <tr>\n",
       "      <th>330</th>\n",
       "      <td>Fruit-flavored soda</td>\n",
       "      <td>12 oz.</td>\n",
       "      <td>346</td>\n",
       "      <td>161</td>\n",
       "      <td>0</td>\n",
       "      <td>0</td>\n",
       "      <td>0</td>\n",
       "      <td>0</td>\n",
       "      <td>42</td>\n",
       "      <td>Drinks,Alcohol, Beverages</td>\n",
       "    </tr>\n",
       "    <tr>\n",
       "      <th>331</th>\n",
       "      <td>Ginger ale</td>\n",
       "      <td>12 oz.</td>\n",
       "      <td>346</td>\n",
       "      <td>105</td>\n",
       "      <td>0</td>\n",
       "      <td>0</td>\n",
       "      <td>0</td>\n",
       "      <td>0</td>\n",
       "      <td>28</td>\n",
       "      <td>Drinks,Alcohol, Beverages</td>\n",
       "    </tr>\n",
       "    <tr>\n",
       "      <th>332</th>\n",
       "      <td>Root beer</td>\n",
       "      <td>12 oz.</td>\n",
       "      <td>346</td>\n",
       "      <td>140</td>\n",
       "      <td>0</td>\n",
       "      <td>0</td>\n",
       "      <td>0</td>\n",
       "      <td>0</td>\n",
       "      <td>35</td>\n",
       "      <td>Drinks,Alcohol, Beverages</td>\n",
       "    </tr>\n",
       "    <tr>\n",
       "      <th>333</th>\n",
       "      <td>Coffee</td>\n",
       "      <td>1 cup</td>\n",
       "      <td>230</td>\n",
       "      <td>3</td>\n",
       "      <td>t</td>\n",
       "      <td>0</td>\n",
       "      <td>0</td>\n",
       "      <td>0</td>\n",
       "      <td>1</td>\n",
       "      <td>Drinks,Alcohol, Beverages</td>\n",
       "    </tr>\n",
       "    <tr>\n",
       "      <th>334</th>\n",
       "      <td>Tea</td>\n",
       "      <td>1 cup</td>\n",
       "      <td>230</td>\n",
       "      <td>4</td>\n",
       "      <td>0</td>\n",
       "      <td>t</td>\n",
       "      <td>0</td>\n",
       "      <td>0</td>\n",
       "      <td>1</td>\n",
       "      <td>Drinks,Alcohol, Beverages</td>\n",
       "    </tr>\n",
       "  </tbody>\n",
       "</table>\n",
       "<p>335 rows × 10 columns</p>\n",
       "</div>"
      ],
      "text/plain": [
       "                      Food Measure  Grams Calories Protein Fat Sat.Fat Fiber  \\\n",
       "0               Cows' milk   1 qt.    976      660      32  40      36     0   \n",
       "1                Milk skim   1 qt.    984      360      36   t       t     0   \n",
       "2               Buttermilk   1 cup    246      127       9   5       4     0   \n",
       "3    Evaporated, undiluted   1 cup    252      345      16  20      18     0   \n",
       "4           Fortified milk  6 cups  1,419    1,373      89  42      23   1.4   \n",
       "..                     ...     ...    ...      ...     ...  ..     ...   ...   \n",
       "330    Fruit-flavored soda  12 oz.    346      161       0   0       0     0   \n",
       "331             Ginger ale  12 oz.    346      105       0   0       0     0   \n",
       "332              Root beer  12 oz.    346      140       0   0       0     0   \n",
       "333                 Coffee   1 cup    230        3       t   0       0     0   \n",
       "334                    Tea   1 cup    230        4       0   t       0     0   \n",
       "\n",
       "    Carbs                   Category  \n",
       "0      48             Dairy products  \n",
       "1      52             Dairy products  \n",
       "2      13             Dairy products  \n",
       "3      24             Dairy products  \n",
       "4     119             Dairy products  \n",
       "..    ...                        ...  \n",
       "330    42  Drinks,Alcohol, Beverages  \n",
       "331    28  Drinks,Alcohol, Beverages  \n",
       "332    35  Drinks,Alcohol, Beverages  \n",
       "333     1  Drinks,Alcohol, Beverages  \n",
       "334     1  Drinks,Alcohol, Beverages  \n",
       "\n",
       "[335 rows x 10 columns]"
      ]
     },
     "execution_count": 5,
     "metadata": {},
     "output_type": "execute_result"
    }
   ],
   "source": [
    "base_df"
   ]
  },
  {
   "cell_type": "code",
   "execution_count": 6,
   "id": "136a42e5",
   "metadata": {},
   "outputs": [
    {
     "data": {
      "text/plain": [
       "Food        object\n",
       "Measure     object\n",
       "Grams       object\n",
       "Calories    object\n",
       "Protein     object\n",
       "Fat         object\n",
       "Sat.Fat     object\n",
       "Fiber       object\n",
       "Carbs       object\n",
       "Category    object\n",
       "dtype: object"
      ]
     },
     "execution_count": 6,
     "metadata": {},
     "output_type": "execute_result"
    }
   ],
   "source": [
    "# Typecheck:\n",
    "\n",
    "base_df.dtypes"
   ]
  },
  {
   "cell_type": "code",
   "execution_count": 7,
   "id": "d678f9b8",
   "metadata": {},
   "outputs": [
    {
     "data": {
      "text/plain": [
       "'0'"
      ]
     },
     "execution_count": 7,
     "metadata": {},
     "output_type": "execute_result"
    }
   ],
   "source": [
    "base_df['Fat'].min()"
   ]
  },
  {
   "cell_type": "code",
   "execution_count": 8,
   "id": "91a0ed5e",
   "metadata": {},
   "outputs": [],
   "source": [
    "# Transform the numeric columns into the right format:\n",
    "\n",
    "cols = base_df.columns.drop(['Food','Measure','Category'])\n",
    "base_df[cols] = base_df[cols].apply(pd.to_numeric, errors='coerce')"
   ]
  },
  {
   "cell_type": "code",
   "execution_count": 9,
   "id": "9a0d6596",
   "metadata": {},
   "outputs": [],
   "source": [
    "# Fill the NA's with 0's for now (THIS IS WRONG, NEED TO DO IT differently later on!!!!)\n",
    "\n",
    "base_df[cols] = base_df[cols].fillna(0)"
   ]
  },
  {
   "cell_type": "code",
   "execution_count": 10,
   "id": "ad83476d",
   "metadata": {},
   "outputs": [],
   "source": [
    "# Example for a plotly express graph:\n",
    "\n",
    "fig = px.scatter(\n",
    "    base_df,\n",
    "    x=\"Grams\",\n",
    "    y=\"Calories\",\n",
    "    size=\"Fat\",\n",
    "    color=\"Category\",\n",
    "    hover_name=\"Protein\",\n",
    "    log_x=True,\n",
    "    size_max=60,\n",
    ")"
   ]
  },
  {
   "cell_type": "code",
   "execution_count": 28,
   "id": "34dcae4b",
   "metadata": {},
   "outputs": [],
   "source": [
    "# A few design examples (for more infos about this dash markdown look at dash html)\n",
    "\n",
    "app = dash.Dash()\n",
    "\n",
    "app.layout = html.Div([\n",
    "    html.Div(children=[\n",
    "        # Label\n",
    "        html.Label('Dropdown'),\n",
    "        # Dropdown\n",
    "        dcc.Dropdown(cols, 'Grams', id='demo-dropdown'),\n",
    "        # Output Container\n",
    "        html.Div(id='dd-output-container'),\n",
    "        # Break a line\n",
    "        html.Br(),\n",
    "        html.Label('Multi-Select Dropdown'),\n",
    "        # Dropdown with multple choices\n",
    "        dcc.Dropdown(cols, multi=True),\n",
    "\n",
    "        html.Br(),\n",
    "        html.Label('Radio Items'),\n",
    "        # Radio items\n",
    "        dcc.RadioItems(base_df['Category'].unique(), 'Dairy products'),\n",
    "        \n",
    "        html.Label('Test Image'),\n",
    "\n",
    "        html.Br(),\n",
    "        html.Br(),\n",
    "        html.Label('Here is a little Test Image based on Pandas'),\n",
    "\n",
    "        html.Br(),\n",
    "        html.Br(),\n",
    "        # A graph <----- THIS IS WHAT YOU SHOULD DO FIRST (make a graph, interactivity later)\n",
    "        dcc.Graph(id=\"Test-ID\", figure = fig),\n",
    "    \n",
    "    ], style={'padding': 10, 'flex': 1}),\n",
    "\n",
    "    html.Div(children=[\n",
    "        html.Label('Checkboxes'),\n",
    "        # Checklist\n",
    "        dcc.Checklist(cols,\n",
    "                      ['Protein']\n",
    "        ),\n",
    "\n",
    "        html.Br(),\n",
    "        html.Label('Text Input'),\n",
    "        dcc.Input(value='Something Something', type='text'),\n",
    "\n",
    "        html.Br(),\n",
    "        html.Label('Slider'),\n",
    "        # Slider\n",
    "        dcc.Slider(\n",
    "            min=0,\n",
    "            max=9,\n",
    "            marks={i: f'Label {i}' if i == 1 else str(i) for i in range(1, 6)},\n",
    "            value=5,\n",
    "        ),\n",
    "    ], style={'padding': 10, 'flex': 1}),\n",
    "\n",
    "##############################################\n",
    "#  This is one element you can freely fill   #\n",
    "##############################################\n",
    "    \n",
    "    html.Div(children=[\n",
    "        html.H1('Copy this Block, Joe. :)'),\n",
    "        html.H2('Oh look, I can do some stuff here'),\n",
    "        dcc.RadioItems(['Adam', 'Ben', 'Joe', 'Marlene', 'Olive'], 'Adam')\n",
    "    ], style={'padding': 10, 'flex': 1})\n",
    "    \n",
    "##############################################\n",
    "#  It ends here                              #\n",
    "##############################################\n",
    "\n",
    "])\n",
    "    "
   ]
  },
  {
   "cell_type": "code",
   "execution_count": 29,
   "id": "fad418f8",
   "metadata": {},
   "outputs": [],
   "source": [
    "# Callback for the interactive parts:\n",
    "\n",
    "@app.callback(\n",
    "    Output('dd-output-container', 'children'),\n",
    "    Input('demo-dropdown', 'value')\n",
    ")\n",
    "def update_output(value):\n",
    "    return f'You have selected {value}'"
   ]
  },
  {
   "cell_type": "code",
   "execution_count": 30,
   "id": "17da88f9",
   "metadata": {},
   "outputs": [
    {
     "name": "stdout",
     "output_type": "stream",
     "text": [
      "Dash is running on http://127.0.0.1:8050/\n",
      "\n",
      "Dash is running on http://127.0.0.1:8050/\n",
      "\n",
      "Dash is running on http://127.0.0.1:8050/\n",
      "\n",
      "Dash is running on http://127.0.0.1:8050/\n",
      "\n",
      "Dash is running on http://127.0.0.1:8050/\n",
      "\n",
      "Dash is running on http://127.0.0.1:8050/\n",
      "\n",
      "Dash is running on http://127.0.0.1:8050/\n",
      "\n",
      " * Serving Flask app \"__main__\" (lazy loading)\n",
      " * Environment: production\n",
      "\u001b[31m   WARNING: This is a development server. Do not use it in a production deployment.\u001b[0m\n",
      "\u001b[2m   Use a production WSGI server instead.\u001b[0m\n",
      " * Debug mode: off\n"
     ]
    },
    {
     "name": "stderr",
     "output_type": "stream",
     "text": [
      " * Running on http://127.0.0.1:8050/ (Press CTRL+C to quit)\n",
      "127.0.0.1 - - [02/Dec/2022 16:50:11] \"GET / HTTP/1.1\" 200 -\n",
      "127.0.0.1 - - [02/Dec/2022 16:50:11] \"GET /_dash-dependencies HTTP/1.1\" 200 -\n",
      "127.0.0.1 - - [02/Dec/2022 16:50:11] \"GET /_dash-layout HTTP/1.1\" 200 -\n",
      "127.0.0.1 - - [02/Dec/2022 16:50:11] \"GET /_dash-component-suites/dash/dcc/async-dropdown.js HTTP/1.1\" 200 -\n",
      "127.0.0.1 - - [02/Dec/2022 16:50:11] \"GET /_dash-component-suites/dash/dcc/async-graph.js HTTP/1.1\" 200 -\n",
      "127.0.0.1 - - [02/Dec/2022 16:50:11] \"GET /_dash-component-suites/dash/dcc/async-slider.js HTTP/1.1\" 200 -\n",
      "127.0.0.1 - - [02/Dec/2022 16:50:11] \"GET /_dash-component-suites/dash/dcc/async-plotlyjs.js HTTP/1.1\" 200 -\n",
      "127.0.0.1 - - [02/Dec/2022 16:50:11] \"POST /_dash-update-component HTTP/1.1\" 200 -\n"
     ]
    }
   ],
   "source": [
    "# Run the App:\n",
    "\n",
    "if __name__ == '__main__':\n",
    "    app.run_server(port='8050')"
   ]
  },
  {
   "cell_type": "code",
   "execution_count": null,
   "id": "4174d17e",
   "metadata": {},
   "outputs": [],
   "source": []
  }
 ],
 "metadata": {
  "kernelspec": {
   "display_name": "Python 3 (ipykernel)",
   "language": "python",
   "name": "python3"
  },
  "language_info": {
   "codemirror_mode": {
    "name": "ipython",
    "version": 3
   },
   "file_extension": ".py",
   "mimetype": "text/x-python",
   "name": "python",
   "nbconvert_exporter": "python",
   "pygments_lexer": "ipython3",
   "version": "3.9.12"
  }
 },
 "nbformat": 4,
 "nbformat_minor": 5
}
